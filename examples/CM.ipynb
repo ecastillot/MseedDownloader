{
 "metadata": {
  "language_info": {
   "codemirror_mode": {
    "name": "ipython",
    "version": 3
   },
   "file_extension": ".py",
   "mimetype": "text/x-python",
   "name": "python",
   "nbconvert_exporter": "python",
   "pygments_lexer": "ipython3",
   "version": "3.7.9-final"
  },
  "orig_nbformat": 2,
  "kernelspec": {
   "name": "python3",
   "display_name": "Python 3.7.9 64-bit ('eqt': conda)",
   "metadata": {
    "interpreter": {
     "hash": "9cb62e47ce4305e592b1acbd685a23ac343ebc53b26a5150204726fc6e8485b2"
    }
   }
  }
 },
 "nbformat": 4,
 "nbformat_minor": 2,
 "cells": [
  {
   "cell_type": "code",
   "execution_count": 1,
   "metadata": {},
   "outputs": [
    {
     "output_type": "stream",
     "name": "stdout",
     "text": [
      "['/home/ecastillo/repositories/MseedDownloader', '/home/ecastillo/repositories/MseedDownloader/examples', '/opt/seiscomp3/lib/python', '/home/ecastillo/repositories/MseedDownloader/examples', '/home/ecastillo/.vscode-server/extensions/ms-toolsai.jupyter-2020.11.372831992/pythonFiles', '/home/ecastillo/.vscode-server/extensions/ms-toolsai.jupyter-2020.11.372831992/pythonFiles/lib/python', '/home/ecastillo/anaconda3/envs/eqt/lib/python37.zip', '/home/ecastillo/anaconda3/envs/eqt/lib/python3.7', '/home/ecastillo/anaconda3/envs/eqt/lib/python3.7/lib-dynload', '', '/home/ecastillo/anaconda3/envs/eqt/lib/python3.7/site-packages', '/home/ecastillo/anaconda3/envs/eqt/lib/python3.7/site-packages/IPython/extensions', '/home/ecastillo/.ipython']\n"
     ]
    }
   ],
   "source": [
    "import sys\n",
    "module_path = \"/home/ecastillo/repositories/MseedDownloader\"\n",
    "sys.path.insert(0,module_path)\n",
    "print(sys.path)"
   ]
  },
  {
   "cell_type": "code",
   "execution_count": 4,
   "metadata": {
    "tags": []
   },
   "outputs": [],
   "source": [
    "from obspy.clients.fdsn import Client as FDSN_Client\n",
    "from obspy.clients.filesystem.sds import Client as SDS_Client\n",
    "from obspy.core.utcdatetime import UTCDateTime\n",
    "from concurrent_downloader.sdl.restrictions import DownloadRestrictions\n",
    "from concurrent_downloader.sdl.restrictions import PreprocRestrictions\n",
    "from concurrent_downloader.sdl.downloader import MseedDownloader\n",
    "\n",
    "##Definición del client\n",
    "client = FDSN_Client('http://sismo.sgc.gov.co:8080')  \n",
    "\n",
    "##Definición de las restricciones de descarga\n",
    "dld_restrictions = DownloadRestrictions(network=\"CM\",\n",
    "                            station=\"BAR2,RUS,URMC\",\n",
    "                            location=\"*\",\n",
    "                            channel=\"*\",\n",
    "                            starttime=UTCDateTime(\"2019-04-23T00:00:00.0\"),\n",
    "                            endtime=UTCDateTime(\"2019-04-23T02:00:00.0\"),\n",
    "                            chunklength_in_sec=3600,\n",
    "                            overlap_in_sec=None,\n",
    "                            groupby='{network}.{station}.{channel}')\n",
    "\n",
    "## Definición de las restricciones de procesamiento\n",
    "ppc_restrictions = PreprocRestrictions(seed_ids=['CM.BAR2'],\n",
    "                            order=['detrend','taper','applyfilter'],\n",
    "                            detrend={'type':'simple'},\n",
    "                            taper={'max_percentage':0.05,\n",
    "                                        'type':\"hann\"},\n",
    "                            applyfilter={'type':'highpass', 'freq':1.3})\n",
    "\n",
    "## Almacenamiento\n",
    "mseed_storage = (\"/home/ecastillo/downloads/\"\n",
    "                    \"{network}/{station}/{network}.{station}.{location}.{channel}__{starttime}__{endtime}{ppc}.mseed\")"
   ]
  },
  {
   "cell_type": "code",
   "execution_count": 5,
   "metadata": {
    "tags": []
   },
   "outputs": [
    {
     "output_type": "stream",
     "name": "stdout",
     "text": [
      "2020/11/27 14:01:45[Exist]:  /home/ecastillo/downloads/CM/RUS/CM.RUS.00.BHE__20190423T000000Z__20190423T010000Z.mseed  \n",
      "2020/11/27 14:01:45[Exist]:  /home/ecastillo/downloads/CM/RUS/CM.RUS.00.BHN__20190423T000000Z__20190423T010000Z.mseed  \n",
      "2020/11/27 14:01:45[Exist]:  /home/ecastillo/downloads/CM/RUS/CM.RUS.00.BHZ__20190423T000000Z__20190423T010000Z.mseed  \n",
      "2020/11/27 14:01:45[Exist]:  /home/ecastillo/downloads/CM/RUS/CM.RUS.00.HHE__20190423T000000Z__20190423T010000Z.mseed  \n",
      "2020/11/27 14:01:45[Exist]:  /home/ecastillo/downloads/CM/RUS/CM.RUS.00.HHZ__20190423T000000Z__20190423T010000Z.mseed  2020/11/27 14:01:45[Exist]:  /home/ecastillo/downloads/CM/RUS/CM.RUS.00.HHN__20190423T000000Z__20190423T010000Z.mseed  \n",
      "2020/11/27 14:01:45[Exist]:  /home/ecastillo/downloads/CM/URMC/CM.URMC.00.HHN__20190423T000000Z__20190423T010000Z.mseed  \n",
      "2020/11/27 14:01:45[Exist]:  /home/ecastillo/downloads/CM/URMC/CM.URMC.00.HHZ__20190423T000000Z__20190423T010000Z.mseed  \n",
      "2020/11/27 14:01:45[Exist]:  /home/ecastillo/downloads/CM/URMC/CM.URMC.10.HNE__20190423T000000Z__20190423T010000Z.mseed  \n",
      "2020/11/27 14:01:45[Exist]:  /home/ecastillo/downloads/CM/URMC/CM.URMC.10.HNN__20190423T000000Z__20190423T010000Z.mseed  \n",
      "2020/11/27 14:01:45[Exist]:  /home/ecastillo/downloads/CM/URMC/CM.URMC.10.HNZ__20190423T000000Z__20190423T010000Z.mseed  \n",
      "\n",
      "2020/11/27 14:01:45[Exist]:  /home/ecastillo/downloads/CM/URMC/CM.URMC.00.HHE__20190423T000000Z__20190423T010000Z.mseed  \n",
      "2020/11/27 14:01:45[Downloaded]:  /home/ecastillo/downloads/CM/BAR2/CM.BAR2.20.EHZ__20190423T000000Z__20190423T010000Z.ppc.mseed  [(detrend:ok)->(taper:ok)->(applyfilter:ok)]\n",
      "2020/11/27 14:01:45[Downloaded]:  /home/ecastillo/downloads/CM/BAR2/CM.BAR2.10.HNN__20190423T000000Z__20190423T010000Z.ppc.mseed  [(detrend:ok)->(taper:ok)->(applyfilter:ok)]\n",
      "2020/11/27 14:01:46[Downloaded]:  /home/ecastillo/downloads/CM/BAR2/CM.BAR2.00.HHE__20190423T000000Z__20190423T010000Z.ppc.mseed  [(detrend:ok)->(taper:ok)->(applyfilter:ok)]\n",
      "2020/11/27 14:01:45[Downloaded]:  /home/ecastillo/downloads/CM/BAR2/CM.BAR2.10.HNE__20190423T000000Z__20190423T010000Z.ppc.mseed  [(detrend:ok)->(taper:ok)->(applyfilter:ok)]\n",
      "2020/11/27 14:01:45[Downloaded]:  /home/ecastillo/downloads/CM/BAR2/CM.BAR2.10.HNZ__20190423T000000Z__20190423T010000Z.ppc.mseed  [(detrend:ok)->(taper:ok)->(applyfilter:ok)]\n",
      "2020/11/27 14:01:46[Downloaded]:  /home/ecastillo/downloads/CM/BAR2/CM.BAR2.00.HHN__20190423T000000Z__20190423T010000Z.ppc.mseed  [(detrend:ok)->(taper:ok)->(applyfilter:ok)]\n",
      "2020/11/27 14:01:46[Downloaded]:  /home/ecastillo/downloads/CM/BAR2/CM.BAR2.00.HHZ__20190423T000000Z__20190423T010000Z.ppc.mseed  [(detrend:ok)->(taper:ok)->(applyfilter:ok)]\n",
      "2020/11/27 14:01:46[Exist]:  /home/ecastillo/downloads/CM/RUS/CM.RUS.00.BHE__20190423T010000Z__20190423T020000Z.mseed  2020/11/27 14:01:46[Exist]:  /home/ecastillo/downloads/CM/RUS/CM.RUS.00.BHN__20190423T010000Z__20190423T020000Z.mseed  \n",
      "\n",
      "2020/11/27 14:01:46[Exist]:  /home/ecastillo/downloads/CM/RUS/CM.RUS.00.BHZ__20190423T010000Z__20190423T020000Z.mseed  \n",
      "2020/11/27 14:01:46[Exist]:  /home/ecastillo/downloads/CM/RUS/CM.RUS.00.HHE__20190423T010000Z__20190423T020000Z.mseed  2020/11/27 14:01:46[Exist]:  /home/ecastillo/downloads/CM/RUS/CM.RUS.00.HHN__20190423T010000Z__20190423T020000Z.mseed  \n",
      "2020/11/27 14:01:46[Exist]:  /home/ecastillo/downloads/CM/RUS/CM.RUS.00.HHZ__20190423T010000Z__20190423T020000Z.mseed  \n",
      "2020/11/27 14:01:46[Exist]:  /home/ecastillo/downloads/CM/URMC/CM.URMC.00.HHE__20190423T010000Z__20190423T020000Z.mseed  \n",
      "2020/11/27 14:01:46[Exist]:  /home/ecastillo/downloads/CM/URMC/CM.URMC.00.HHN__20190423T010000Z__20190423T020000Z.mseed  \n",
      "2020/11/27 14:01:46[Exist]:  /home/ecastillo/downloads/CM/URMC/CM.URMC.00.HHZ__20190423T010000Z__20190423T020000Z.mseed  \n",
      "2020/11/27 14:01:46[Exist]:  /home/ecastillo/downloads/CM/URMC/CM.URMC.10.HNE__20190423T010000Z__20190423T020000Z.mseed  \n",
      "2020/11/27 14:01:46[Exist]:  /home/ecastillo/downloads/CM/URMC/CM.URMC.10.HNN__20190423T010000Z__20190423T020000Z.mseed  \n",
      "2020/11/27 14:01:46[Exist]:  /home/ecastillo/downloads/CM/URMC/CM.URMC.10.HNZ__20190423T010000Z__20190423T020000Z.mseed  \n",
      "\n",
      "2020/11/27 14:01:46[Downloaded]:  /home/ecastillo/downloads/CM/BAR2/CM.BAR2.20.EHZ__20190423T010000Z__20190423T020000Z.ppc.mseed  [(detrend:ok)->(taper:ok)->(applyfilter:ok)]\n",
      "2020/11/27 14:01:47[Downloaded]:  /home/ecastillo/downloads/CM/BAR2/CM.BAR2.00.HHE__20190423T010000Z__20190423T020000Z.ppc.mseed  [(detrend:ok)->(taper:ok)->(applyfilter:ok)]\n",
      "2020/11/27 14:01:46[Downloaded]:  /home/ecastillo/downloads/CM/BAR2/CM.BAR2.10.HNZ__20190423T010000Z__20190423T020000Z.ppc.mseed  [(detrend:ok)->(taper:ok)->(applyfilter:ok)]\n",
      "2020/11/27 14:01:46[Downloaded]:  /home/ecastillo/downloads/CM/BAR2/CM.BAR2.10.HNN__20190423T010000Z__20190423T020000Z.ppc.mseed  [(detrend:ok)->(taper:ok)->(applyfilter:ok)]\n",
      "2020/11/27 14:01:46[Downloaded]:  /home/ecastillo/downloads/CM/BAR2/CM.BAR2.10.HNE__20190423T010000Z__20190423T020000Z.ppc.mseed  [(detrend:ok)->(taper:ok)->(applyfilter:ok)]\n",
      "2020/11/27 14:01:47[Downloaded]:  /home/ecastillo/downloads/CM/BAR2/CM.BAR2.00.HHN__20190423T010000Z__20190423T020000Z.ppc.mseed  [(detrend:ok)->(taper:ok)->(applyfilter:ok)]\n",
      "2020/11/27 14:01:47[Downloaded]:  /home/ecastillo/downloads/CM/BAR2/CM.BAR2.00.HHZ__20190423T010000Z__20190423T020000Z.ppc.mseed  [(detrend:ok)->(taper:ok)->(applyfilter:ok)]\n"
     ]
    }
   ],
   "source": [
    "MseedDownloader(mseed_storage,client,dld_restrictions,\n",
    "                    ppc_restrictions,\n",
    "                    n_processor=4,concurrent_feature=\"t\")"
   ]
  },
  {
   "cell_type": "code",
   "execution_count": null,
   "metadata": {},
   "outputs": [],
   "source": []
  }
 ]
}