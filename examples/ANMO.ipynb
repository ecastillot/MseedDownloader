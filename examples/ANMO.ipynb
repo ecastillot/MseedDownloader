{
 "metadata": {
  "language_info": {
   "codemirror_mode": {
    "name": "ipython",
    "version": 3
   },
   "file_extension": ".py",
   "mimetype": "text/x-python",
   "name": "python",
   "nbconvert_exporter": "python",
   "pygments_lexer": "ipython3",
   "version": "3.7.9-final"
  },
  "orig_nbformat": 2,
  "kernelspec": {
   "name": "python3",
   "display_name": "Python 3.7.9 64-bit ('eqt': conda)",
   "metadata": {
    "interpreter": {
     "hash": "9cb62e47ce4305e592b1acbd685a23ac343ebc53b26a5150204726fc6e8485b2"
    }
   }
  }
 },
 "nbformat": 4,
 "nbformat_minor": 2,
 "cells": [
  {
   "cell_type": "code",
   "execution_count": 1,
   "metadata": {},
   "outputs": [
    {
     "output_type": "stream",
     "name": "stdout",
     "text": [
      "['/home/ecastillo/repositories/MseedDownloader', '/home/ecastillo/repositories/MseedDownloader/examples', '/opt/seiscomp3/lib/python', '/home/ecastillo/repositories/MseedDownloader/examples', '/home/ecastillo/.vscode-server/extensions/ms-toolsai.jupyter-2020.11.372831992/pythonFiles', '/home/ecastillo/.vscode-server/extensions/ms-toolsai.jupyter-2020.11.372831992/pythonFiles/lib/python', '/home/ecastillo/anaconda3/envs/eqt/lib/python37.zip', '/home/ecastillo/anaconda3/envs/eqt/lib/python3.7', '/home/ecastillo/anaconda3/envs/eqt/lib/python3.7/lib-dynload', '', '/home/ecastillo/anaconda3/envs/eqt/lib/python3.7/site-packages', '/home/ecastillo/anaconda3/envs/eqt/lib/python3.7/site-packages/IPython/extensions', '/home/ecastillo/.ipython']\n"
     ]
    }
   ],
   "source": [
    "import sys\n",
    "module_path = \"/home/ecastillo/repositories/MseedDownloader\"\n",
    "sys.path.insert(0,module_path)\n",
    "print(sys.path)"
   ]
  },
  {
   "cell_type": "code",
   "execution_count": 6,
   "metadata": {
    "tags": []
   },
   "outputs": [
    {
     "output_type": "stream",
     "name": "stdout",
     "text": [
      "\n        Parallel download by each station. \n\n        Parameters\n        ----------\n        domain: class:'obspy.mass_downloader.domain'\n            The download domain.\n        restrictions: class:'obspy.mass_downloader.restrictions.Restrictions'\n            Non-spatial downloading restrictions.\n        mseed_storage: str\n            Where to store the waveform files. \n            If it has '{<SDSdir>}:' then it is going to save in SDS format.\n            key parameters for controlling the store: {network}, {station},  \n            {location},{channel}, {starttime}, and {endtime}\n        stationxml_storage: str\n            Where to store the StationXML files.\n            key parameters for controlling the store: {network}, {station},  \n            {location},{channel}, {starttime}, and {endtime}\n        workers: int\n            Number of subprocess that will be used.\n        parallel_mode: str\n            It can be 'thread' or 'process'. However It's recommended\n            to use 'process'because by 'thread' you only can use 6 workers\n            because for greater workers the downloading is not complete \n            due to no FDSN response.\n\n        returns\n        -------\n        mseed files and xml files in mseed_storage and stationxml_storage\n        respectively.\n        \n"
     ]
    }
   ],
   "source": [
    "from concurrent_downloader.mdl.bulk_downloader import BulkDownloader\n",
    "from obspy.clients.fdsn.mass_downloader.domain import RectangularDomain\n",
    "from obspy.clients.fdsn.mass_downloader import Restrictions\n",
    "from obspy.core.utcdatetime import UTCDateTime\n",
    "\n",
    "##Definición del client\n",
    "IRIS_client = {\"base_url\":\"IRIS\",\"user\":None,\"password\":None}  \n",
    "\n",
    "##Definición de las restricciones\n",
    "YU_restrictions = Restrictions(starttime=UTCDateTime(2010, 2, 25),\n",
    "                        endtime=UTCDateTime(2010, 3, 25),\n",
    "                        network=\"IU\", \n",
    "                        station=\"ANMO\",\n",
    "                        location=\"00\", channel=\"LHZ\",\n",
    "                        chunklength_in_sec=86400,\n",
    "                        reject_channels_with_gaps=False,\n",
    "                        minimum_length=0.0,\n",
    "                        minimum_interstation_distance_in_m=0.0,\n",
    "                        channel_priorities=[],\n",
    "                        location_priorities=[\"\"])\n",
    "##Dominio espacial\n",
    "domainR = RectangularDomain(minlatitude=-90, maxlatitude=90,\n",
    "                        minlongitude=-180, maxlongitude=180)\n",
    "\n",
    "## Almacenamiento\n",
    "## Poner {<SDSdir>} al inicio para indicar que es formato SDS\n",
    "mseed_storage = (\"{<SDSdir>}:/home/ecastillo/downloads/IU/waveforms\")\n",
    "stationxml_storage = \"/home/ecastillo/downloads/IU/stations/{network}/{station}.xml\"\n",
    "\n",
    "#Instancie objeto y descargue\n",
    "bdl = BulkDownloader(client_dict=IRIS_client)\n",
    "\n",
    "#consulte la información del método download_by_station\n",
    "print(bdl.download_by_station.__doc__)\n"
   ]
  },
  {
   "cell_type": "code",
   "execution_count": 7,
   "metadata": {
    "tags": []
   },
   "outputs": [
    {
     "output_type": "stream",
     "name": "stderr",
     "text": [
      "[2020-11-27 13:56:29,864] - obspy.clients.fdsn.mass_downloader - INFO: Initializing FDSN client(s) for http://service.iris.edu.\n",
      "[2020-11-27 13:56:29,864] - obspy.clients.fdsn.mass_downloader - INFO: Initializing FDSN client(s) for http://service.iris.edu.\n",
      "[2020-11-27 13:56:29,867] - obspy.clients.fdsn.mass_downloader - INFO: Successfully initialized 1 client(s): http://service.iris.edu.\n",
      "[2020-11-27 13:56:29,867] - obspy.clients.fdsn.mass_downloader - INFO: Successfully initialized 1 client(s): http://service.iris.edu.\n",
      "in process\n",
      "\n",
      "** loading -->\tIU -- ANMO\n",
      "[2020-11-27 13:56:29,904] - obspy.clients.fdsn.mass_downloader - INFO: Total acquired or preexisting stations: 0\n",
      "[2020-11-27 13:56:29,904] - obspy.clients.fdsn.mass_downloader - INFO: Total acquired or preexisting stations: 0\n",
      "[2020-11-27 13:56:29,907] - obspy.clients.fdsn.mass_downloader - INFO: Client 'http://service.iris.edu' - Requesting reliable availability.\n",
      "[2020-11-27 13:56:29,907] - obspy.clients.fdsn.mass_downloader - INFO: Client 'http://service.iris.edu' - Requesting reliable availability.\n",
      "[2020-11-27 13:56:30,209] - obspy.clients.fdsn.mass_downloader - INFO: Client 'http://service.iris.edu' - Successfully requested availability (0.30 seconds)\n",
      "[2020-11-27 13:56:30,209] - obspy.clients.fdsn.mass_downloader - INFO: Client 'http://service.iris.edu' - Successfully requested availability (0.30 seconds)\n",
      "[2020-11-27 13:56:30,213] - obspy.clients.fdsn.mass_downloader - INFO: Client 'http://service.iris.edu' - Found 1 stations (1 channels).\n",
      "[2020-11-27 13:56:30,213] - obspy.clients.fdsn.mass_downloader - INFO: Client 'http://service.iris.edu' - Found 1 stations (1 channels).\n",
      "[2020-11-27 13:56:30,215] - obspy.clients.fdsn.mass_downloader - INFO: Client 'http://service.iris.edu' - Will attempt to download data from 1 stations.\n",
      "[2020-11-27 13:56:30,215] - obspy.clients.fdsn.mass_downloader - INFO: Client 'http://service.iris.edu' - Will attempt to download data from 1 stations.\n",
      "[2020-11-27 13:56:30,218] - obspy.clients.fdsn.mass_downloader - INFO: Client 'http://service.iris.edu' - Status for 28 time intervals/channels before downloading: NEEDS_DOWNLOADING\n",
      "[2020-11-27 13:56:30,218] - obspy.clients.fdsn.mass_downloader - INFO: Client 'http://service.iris.edu' - Status for 28 time intervals/channels before downloading: NEEDS_DOWNLOADING\n",
      "[2020-11-27 13:57:15,749] - obspy.clients.fdsn.mass_downloader - INFO: Client 'http://service.iris.edu' - Successfully downloaded 28 channels (of 28)\n",
      "[2020-11-27 13:57:15,749] - obspy.clients.fdsn.mass_downloader - INFO: Client 'http://service.iris.edu' - Successfully downloaded 28 channels (of 28)\n",
      "[2020-11-27 13:57:15,752] - obspy.clients.fdsn.mass_downloader - INFO: Client 'http://service.iris.edu' - Launching basic QC checks...\n",
      "[2020-11-27 13:57:15,752] - obspy.clients.fdsn.mass_downloader - INFO: Client 'http://service.iris.edu' - Launching basic QC checks...\n",
      "[2020-11-27 13:57:15,801] - obspy.clients.fdsn.mass_downloader - INFO: Client 'http://service.iris.edu' - Downloaded 5.3 MB [119.07 KB/sec] of data, 0.0 MB of which were discarded afterwards.\n",
      "[2020-11-27 13:57:15,801] - obspy.clients.fdsn.mass_downloader - INFO: Client 'http://service.iris.edu' - Downloaded 5.3 MB [119.07 KB/sec] of data, 0.0 MB of which were discarded afterwards.\n",
      "[2020-11-27 13:57:15,803] - obspy.clients.fdsn.mass_downloader - INFO: Client 'http://service.iris.edu' - Status for 28 time intervals/channels after downloading: DOWNLOADED\n",
      "[2020-11-27 13:57:15,803] - obspy.clients.fdsn.mass_downloader - INFO: Client 'http://service.iris.edu' - Status for 28 time intervals/channels after downloading: DOWNLOADED\n",
      "[2020-11-27 13:57:16,207] - obspy.clients.fdsn.mass_downloader - INFO: Client 'http://service.iris.edu' - Successfully downloaded '/home/ecastillo/downloads/IU/stations/IU/ANMO.xml'.\n",
      "[2020-11-27 13:57:16,207] - obspy.clients.fdsn.mass_downloader - INFO: Client 'http://service.iris.edu' - Successfully downloaded '/home/ecastillo/downloads/IU/stations/IU/ANMO.xml'.\n",
      "[2020-11-27 13:57:16,211] - obspy.clients.fdsn.mass_downloader - INFO: Client 'http://service.iris.edu' - Downloaded 1 station files [0.0 MB] in 0.4 seconds [17.47 KB/sec].\n",
      "[2020-11-27 13:57:16,211] - obspy.clients.fdsn.mass_downloader - INFO: Client 'http://service.iris.edu' - Downloaded 1 station files [0.0 MB] in 0.4 seconds [17.47 KB/sec].\n",
      "[2020-11-27 13:57:16,213] - obspy.clients.fdsn.mass_downloader - INFO: ============================== Final report\n",
      "[2020-11-27 13:57:16,213] - obspy.clients.fdsn.mass_downloader - INFO: ============================== Final report\n",
      "[2020-11-27 13:57:16,214] - obspy.clients.fdsn.mass_downloader - INFO: 0 MiniSEED files [0.0 MB] already existed.\n",
      "[2020-11-27 13:57:16,214] - obspy.clients.fdsn.mass_downloader - INFO: 0 MiniSEED files [0.0 MB] already existed.\n",
      "[2020-11-27 13:57:16,216] - obspy.clients.fdsn.mass_downloader - INFO: 0 StationXML files [0.0 MB] already existed.\n",
      "[2020-11-27 13:57:16,216] - obspy.clients.fdsn.mass_downloader - INFO: 0 StationXML files [0.0 MB] already existed.\n",
      "[2020-11-27 13:57:16,218] - obspy.clients.fdsn.mass_downloader - INFO: Client 'http://service.iris.edu' - Acquired 28 MiniSEED files [5.3 MB].\n",
      "[2020-11-27 13:57:16,218] - obspy.clients.fdsn.mass_downloader - INFO: Client 'http://service.iris.edu' - Acquired 28 MiniSEED files [5.3 MB].\n",
      "[2020-11-27 13:57:16,219] - obspy.clients.fdsn.mass_downloader - INFO: Client 'http://service.iris.edu' - Acquired 1 StationXML files [0.0 MB].\n",
      "[2020-11-27 13:57:16,219] - obspy.clients.fdsn.mass_downloader - INFO: Client 'http://service.iris.edu' - Acquired 1 StationXML files [0.0 MB].\n",
      "[2020-11-27 13:57:16,221] - obspy.clients.fdsn.mass_downloader - INFO: Downloaded 5.3 MB in total.\n",
      "[2020-11-27 13:57:16,221] - obspy.clients.fdsn.mass_downloader - INFO: Downloaded 5.3 MB in total.\n",
      "\n",
      "** done with -->\tIU -- ANMO --> \ttime: 46.32 s\n",
      "\n",
      "** TOTAL DOWNLOAD TIME\t46.45 s\n"
     ]
    }
   ],
   "source": [
    "bdl.download_by_station(domain=domainR,\n",
    "                    restrictions=YU_restrictions, \n",
    "                    mseed_storage=mseed_storage,\n",
    "                    stationxml_storage=stationxml_storage,\n",
    "                    workers=4,parallel_mode=\"process\")"
   ]
  },
  {
   "cell_type": "code",
   "execution_count": null,
   "metadata": {},
   "outputs": [],
   "source": []
  }
 ]
}